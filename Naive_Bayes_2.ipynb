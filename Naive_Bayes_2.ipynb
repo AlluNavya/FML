{
  "nbformat": 4,
  "nbformat_minor": 0,
  "metadata": {
    "colab": {
      "provenance": [],
      "authorship_tag": "ABX9TyPFCOVTjQCJqY4GysdH6j1G",
      "include_colab_link": true
    },
    "kernelspec": {
      "name": "python3",
      "display_name": "Python 3"
    },
    "language_info": {
      "name": "python"
    }
  },
  "cells": [
    {
      "cell_type": "markdown",
      "metadata": {
        "id": "view-in-github",
        "colab_type": "text"
      },
      "source": [
        "<a href=\"https://colab.research.google.com/github/AlluNavya/FML/blob/main/Naive_Bayes_2.ipynb\" target=\"_parent\"><img src=\"https://colab.research.google.com/assets/colab-badge.svg\" alt=\"Open In Colab\"/></a>"
      ]
    },
    {
      "cell_type": "code",
      "execution_count": 9,
      "metadata": {
        "id": "PjzF3QRTgEp7"
      },
      "outputs": [],
      "source": [
        "humidity=['low','high','high','high','low']\n",
        "sunny=['no','yes','yes','no','yes']\n",
        "wind=['slow','weak','slow','weak','slow']\n",
        "play=['no','yes','yes','yes','no']"
      ]
    },
    {
      "cell_type": "code",
      "source": [
        "from sklearn import preprocessing\n",
        "le=preprocessing.LabelEncoder()\n",
        "hum_encoder=le.fit_transform(humidity)\n",
        "sun_encoder=le.fit_transform(sunny)\n",
        "wind_encoder=le.fit_transform(wind)\n",
        "label=le.fit_transform(play)\n",
        "print(\"humidity_encoder : \",hum_encoder)#0-high,1-low\n",
        "print(\"sunny_encoder : \",sun_encoder)#0-no,1-yes\n",
        "print(\"wind_encoder : \",wind_encoder)#0-slow,1-weak\n",
        "print(\"label : \",label)#0-no,1-yes"
      ],
      "metadata": {
        "colab": {
          "base_uri": "https://localhost:8080/"
        },
        "id": "FQUznwmgg8Z7",
        "outputId": "286fc1e5-ff98-4839-ae20-455626f4a80d"
      },
      "execution_count": 11,
      "outputs": [
        {
          "output_type": "stream",
          "name": "stdout",
          "text": [
            "humidity_encoder :  [1 0 0 0 1]\n",
            "sunny_encoder :  [0 1 1 0 1]\n",
            "wind_encoder :  [0 1 0 1 0]\n",
            "label :  [0 1 1 1 0]\n"
          ]
        }
      ]
    },
    {
      "cell_type": "code",
      "source": [
        "import numpy as np\n",
        "features=np.vstack((hum_encoder,sun_encoder,wind_encoder)).T\n",
        "print(features)"
      ],
      "metadata": {
        "colab": {
          "base_uri": "https://localhost:8080/"
        },
        "id": "XFW7gJ8fiC91",
        "outputId": "2949ff58-3528-440c-9f38-507fea09c9c1"
      },
      "execution_count": 7,
      "outputs": [
        {
          "output_type": "stream",
          "name": "stdout",
          "text": [
            "[[1 0 0]\n",
            " [0 1 1]\n",
            " [0 1 0]\n",
            " [0 0 1]\n",
            " [1 1 0]]\n"
          ]
        }
      ]
    },
    {
      "cell_type": "code",
      "source": [
        "from sklearn.naive_bayes import GaussianNB\n",
        "model=GaussianNB()\n",
        "model.fit(features,label)\n",
        "predicted=model.predict([[1,0,1]])\n",
        "print(predicted)"
      ],
      "metadata": {
        "colab": {
          "base_uri": "https://localhost:8080/"
        },
        "id": "Yx0ktBbmiXlY",
        "outputId": "39156e41-b926-49be-f25b-d4073adefa9d"
      },
      "execution_count": 14,
      "outputs": [
        {
          "output_type": "stream",
          "name": "stdout",
          "text": [
            "[0]\n"
          ]
        }
      ]
    }
  ]
}