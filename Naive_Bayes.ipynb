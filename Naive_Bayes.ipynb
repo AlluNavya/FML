{
  "nbformat": 4,
  "nbformat_minor": 0,
  "metadata": {
    "colab": {
      "provenance": [],
      "authorship_tag": "ABX9TyPmS8GmetW+OpMssFT9emsj",
      "include_colab_link": true
    },
    "kernelspec": {
      "name": "python3",
      "display_name": "Python 3"
    },
    "language_info": {
      "name": "python"
    }
  },
  "cells": [
    {
      "cell_type": "markdown",
      "metadata": {
        "id": "view-in-github",
        "colab_type": "text"
      },
      "source": [
        "<a href=\"https://colab.research.google.com/github/AlluNavya/FML/blob/main/Naive_Bayes.ipynb\" target=\"_parent\"><img src=\"https://colab.research.google.com/assets/colab-badge.svg\" alt=\"Open In Colab\"/></a>"
      ]
    },
    {
      "cell_type": "markdown",
      "source": [
        "Naive Bayes Classification"
      ],
      "metadata": {
        "id": "b8NoAuMQTVVw"
      }
    },
    {
      "cell_type": "code",
      "source": [
        "#data set\n",
        "weather=['Sunny','Sunny','Overcast','Rainy','Rainy','Rainy','Overcast','Sunny','Sunny',\n",
        "'Rainy','Sunny','Overcast','Overcast','Rainy']\n",
        "temp=['Hot','Hot','Hot','Mild','Cool','Cool','Cool','Mild','Cool','Mild','Mild','Mild','Hot','Mild']\n",
        "\n",
        "play=['No','No','Yes','Yes','Yes','No','Yes','No','Yes','Yes','Yes','Yes','Yes','No']"
      ],
      "metadata": {
        "id": "iXM_P-HlTbUi"
      },
      "execution_count": 1,
      "outputs": []
    },
    {
      "cell_type": "code",
      "source": [
        "#label encoding\n",
        "from sklearn import preprocessing\n",
        "le=preprocessing.LabelEncoder()\n",
        "weather_encoder=le.fit_transform(weather)\n",
        "temp_encoder=le.fit_transform(temp)\n",
        "label=le.fit_transform(play)\n",
        "print(\"weather_encoder: \",weather_encoder)#0-overcast,1-rainy,2-sunny\n",
        "print(\"temp_encoder: \",temp_encoder)#0-cool,1-hot,2-mild\n",
        "print(\"label :\",label)#0-No,1-Yes"
      ],
      "metadata": {
        "colab": {
          "base_uri": "https://localhost:8080/"
        },
        "id": "ytqNal_jTxvz",
        "outputId": "513484ed-b2bf-46fd-9024-d143ae2529b5"
      },
      "execution_count": 6,
      "outputs": [
        {
          "output_type": "stream",
          "name": "stdout",
          "text": [
            "weather_encoder:  [2 2 0 1 1 1 0 2 2 1 2 0 0 1]\n",
            "temp_encoder:  [1 1 1 2 0 0 0 2 0 2 2 2 1 2]\n",
            "label : [0 0 1 1 1 0 1 0 1 1 1 1 1 0]\n"
          ]
        }
      ]
    },
    {
      "cell_type": "code",
      "source": [
        "import numpy as np\n",
        "features=np.vstack((weather_encoder,temp_encoder)).T\n",
        "print(features)\n",
        "features.shape"
      ],
      "metadata": {
        "colab": {
          "base_uri": "https://localhost:8080/"
        },
        "id": "eg3BEKTkVXN9",
        "outputId": "173b0331-b3e3-41bd-954b-1e0242611fc9"
      },
      "execution_count": 12,
      "outputs": [
        {
          "output_type": "stream",
          "name": "stdout",
          "text": [
            "[[2 1]\n",
            " [2 1]\n",
            " [0 1]\n",
            " [1 2]\n",
            " [1 0]\n",
            " [1 0]\n",
            " [0 0]\n",
            " [2 2]\n",
            " [2 0]\n",
            " [1 2]\n",
            " [2 2]\n",
            " [0 2]\n",
            " [0 1]\n",
            " [1 2]]\n"
          ]
        },
        {
          "output_type": "execute_result",
          "data": {
            "text/plain": [
              "(14, 2)"
            ]
          },
          "metadata": {},
          "execution_count": 12
        }
      ]
    },
    {
      "cell_type": "code",
      "source": [
        "from sklearn.naive_bayes import GaussianNB\n",
        "model=GaussianNB()\n",
        "#training the model by using training data\n",
        "model.fit(features,label)\n",
        "predicted=model.predict([[0,2]])\n",
        "print(predicted)"
      ],
      "metadata": {
        "colab": {
          "base_uri": "https://localhost:8080/"
        },
        "id": "8VCChafCcm6I",
        "outputId": "adbf696a-418e-408b-8953-571d61f2adb2"
      },
      "execution_count": 15,
      "outputs": [
        {
          "output_type": "stream",
          "name": "stdout",
          "text": [
            "[1]\n"
          ]
        }
      ]
    },
    {
      "cell_type": "markdown",
      "source": [
        "here predicted value is 1 so predicted value is Yes"
      ],
      "metadata": {
        "id": "wNiTzYm_dSH4"
      }
    }
  ]
}